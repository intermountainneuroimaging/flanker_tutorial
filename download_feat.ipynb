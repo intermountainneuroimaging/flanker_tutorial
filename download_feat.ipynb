{
 "cells": [
  {
   "cell_type": "markdown",
   "metadata": {},
   "source": [
    "# Flanker Tutorial: Download Analyses from Flywheel\n",
    "\n",
    "Welcome! This is an introductory worksheet to explore how we can select and download analysis files from Flywheel. In this example, we will start by walking through each analysis in the *flanker* project, then download the output files. \n",
    "\n",
    "**Date modified:** 11/12/2024<br>\n",
    "**Authors:** Amy Hegarty, Intermountain Neuroimaging Consortium\n",
    "\n",
    "**Sections:**\n",
    "1. User Inputs\n",
    "2. Import Statements\n",
    "3. Flywheel Login\n",
    "4. Getting Started\n",
    "3. Generate Table\n",
    "4. Download Analysis Files\n",
    "-----"
   ]
  },
  {
   "cell_type": "markdown",
   "metadata": {},
   "source": [
    "Before starting...\n",
    "1. Be sure you have configured your conda environment to view ics managed conda environments and packages. If you haven't get started [here](https://inc-documentation.readthedocs.io/en/latest/pl_and_blanca_basics.html#setting-up-conda-environments).\n",
    "\n",
    "2. Be sure to select the `flywheel` kernel from the list of available kernels. If you don't see the `flywheel` kernel, contact Amy Hegarty <Amy.Hegarty@colorado.edu> or follow the instructions [here](https://inc-documentation.readthedocs.io/en/latest/pl_and_blanca_basics.html#setting-up-conda-environments) to setup a new kernel in a shared conda environment. "
   ]
  },
  {
   "cell_type": "markdown",
   "metadata": {},
   "source": [
    "## USER INPUTS\n",
    "Gather all users defined variables for the worksheet"
   ]
  },
  {
   "cell_type": "code",
   "execution_count": null,
   "metadata": {},
   "outputs": [],
   "source": [
    "user_inputs = {\n",
    "    \"project\": \"flanker\",\n",
    "    \"gear\": \"bids-feat\",  \n",
    "    \"download-path\": \"/scratch/alpine/ics/flanker\"\n",
    "}\n"
   ]
  },
  {
   "cell_type": "markdown",
   "metadata": {},
   "source": [
    "## IMPORT STATEMENTS\n",
    "Here we will load all packages used in the worksheet. This includes some custom helper functions stored in helper_functions.py"
   ]
  },
  {
   "cell_type": "code",
   "execution_count": null,
   "metadata": {},
   "outputs": [],
   "source": [
    "from pathlib import Path\n",
    "import os\n",
    "import flywheel\n",
    "import pandas as pd\n",
    "import helper_functions\n",
    "import logging\n",
    "logging.basicConfig(level=logging.INFO, format='%(asctime)s %(levelname)s %(message)s')\n",
    "log = logging.getLogger('main')\n",
    "\n",
    "# set default permissions\n",
    "os.umask(0o002);"
   ]
  },
  {
   "cell_type": "markdown",
   "metadata": {},
   "source": [
    "## FLYWHEEL LOGIN\n",
    "Be sure you have first logged into flywheel using the command line interface. Once you have stored your API key, you will not need to log in subsequent times. Follow instructions [here](https://inc-documentation.readthedocs.io/en/latest/cli_basics.html#cli-from-blanca-compute-node). "
   ]
  },
  {
   "cell_type": "code",
   "execution_count": null,
   "metadata": {},
   "outputs": [],
   "source": [
    "# get flywheel client\n",
    "fw = flywheel.Client('')"
   ]
  },
  {
   "cell_type": "markdown",
   "metadata": {},
   "source": [
    "## GETTING STARTED\n",
    "Let's start by using the flywheel sdk to locate an example analysis in the flanker project, and download a single file. "
   ]
  },
  {
   "cell_type": "code",
   "execution_count": null,
   "metadata": {},
   "outputs": [],
   "source": [
    "def get_label(cid):\n",
    "    return fw.get_container(cid).label"
   ]
  },
  {
   "cell_type": "code",
   "execution_count": null,
   "metadata": {},
   "outputs": [],
   "source": [
    "# start by searching for an analysis by name\n",
    "analysis = fw.analyses.find_one('label=(lower run-01) bids-feat 11/13/24 13:56:15')\n",
    "# print where the analysis is located in flywheel hieararchy\n",
    "print(analysis.parents[\"group\"])\n",
    "print(\"group: \" + get_label(analysis.parents[\"project\"]))\n",
    "print(\"project: \" + get_label(analysis.parents[\"subject\"]))\n",
    "print(\"session: \" + get_label(analysis.parents[\"session\"]))\n",
    "print(\"analysis: \" + get_label(analysis.id))"
   ]
  },
  {
   "cell_type": "code",
   "execution_count": null,
   "metadata": {},
   "outputs": [],
   "source": [
    "# find the first file in the analysis outputs and download it\n",
    "file = analysis.files[0]\n",
    "\n",
    "# print file name\n",
    "print(file.name)\n",
    "\n",
    "# download\n",
    "file.download(file.name)"
   ]
  },
  {
   "cell_type": "markdown",
   "metadata": {},
   "source": [
    "Pause here, do you see the file \"bids_tree.html\" in you current directory? If so, great! lets clean up our directory and go on to the larger script. If not, pause and ask for help."
   ]
  },
  {
   "cell_type": "code",
   "execution_count": null,
   "metadata": {},
   "outputs": [],
   "source": [
    "os.remove(file.name)"
   ]
  },
  {
   "cell_type": "markdown",
   "metadata": {},
   "source": [
    "Now that we now how to locate the analysis objects using flywheel's sdk and download them using flywheel's sdk, lets put it all together. In the following sections, we will use functions already created for us to generate a list of all project analyses and download the analyses to a scratch directory."
   ]
  },
  {
   "cell_type": "markdown",
   "metadata": {},
   "source": [
    "## GENERATE TABLE\n",
    "Use a custom function `get_table` stored in helper_functions.py to walk through all project analyses. Locate analyses which meet our matching critera and ouput their ids in a table. "
   ]
  },
  {
   "cell_type": "code",
   "execution_count": null,
   "metadata": {},
   "outputs": [],
   "source": [
    "# get summary table\n",
    "summary = helper_functions.get_table(user_inputs)\n",
    "# display summary table\n",
    "summary"
   ]
  },
  {
   "cell_type": "code",
   "execution_count": null,
   "metadata": {},
   "outputs": [],
   "source": [
    "# save summary table for future use\n",
    "label=user_inputs[\"project\"].lower()+\".\"+user_inputs[\"gear\"]+\".table.csv\"\n",
    "summary.to_csv(label,index=False)\n",
    "log.info(\"Analysis Spreadsheet saved: %s\", os.path.join(os.getcwd(),label))"
   ]
  },
  {
   "cell_type": "markdown",
   "metadata": {},
   "source": [
    "## DOWNLOAD FILES\n",
    "Use the analysis table and download all analysis files to selected path. "
   ]
  },
  {
   "cell_type": "code",
   "execution_count": null,
   "metadata": {},
   "outputs": [],
   "source": [
    "os.makedirs(user_inputs[\"download-path\"], exist_ok=True)\n",
    "for index, row in summary.iterrows():\n",
    "    helper_functions.download_session_analyses_byid(row[\"analysis.id\"],user_inputs[\"download-path\"])"
   ]
  }
 ],
 "metadata": {
  "kernelspec": {
   "display_name": "flywheel",
   "language": "python",
   "name": "flywheel"
  },
  "language_info": {
   "codemirror_mode": {
    "name": "ipython",
    "version": 3
   },
   "file_extension": ".py",
   "mimetype": "text/x-python",
   "name": "python",
   "nbconvert_exporter": "python",
   "pygments_lexer": "ipython3",
   "version": "3.8.5"
  }
 },
 "nbformat": 4,
 "nbformat_minor": 4
}
